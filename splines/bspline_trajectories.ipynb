{
 "cells": [
  {
   "cell_type": "code",
   "execution_count": 18,
   "outputs": [
    {
     "data": {
      "text/plain": "<IPython.core.display.Javascript object>",
      "application/javascript": "MathJax.Hub.Config({\n    TeX: { equationNumbers: { autoNumber: \"AMS\" } }\n});\n\n"
     },
     "metadata": {},
     "output_type": "display_data"
    }
   ],
   "source": [
    "%%javascript\n",
    "MathJax.Hub.Config({\n",
    "    TeX: { equationNumbers: { autoNumber: \"AMS\" } }\n",
    "});"
   ],
   "metadata": {
    "collapsed": false,
    "pycharm": {
     "name": "#%%\n"
    }
   }
  },
  {
   "cell_type": "markdown",
   "metadata": {
    "collapsed": true,
    "pycharm": {
     "name": "#%% md\n"
    }
   },
   "source": [
    "# B-Splines for Path Planning.\n",
    "\n",
    "The objective of this python notebook is to explore\n",
    "the use of b-splines for 3D path planning.  The write-up\n",
    "is based on the book\n",
    "\n",
    "Tom Lynche and Knut Morken, \"Spline Methods,\"\n",
    "http://www.uio.no/studier/emner/matnat/ifi/INF-MAT5340/v05/undervisningsmateriale/"
   ]
  },
  {
   "cell_type": "markdown",
   "source": [
    "## Bezier Curves\n",
    "Given two points $\\mathbf{c}_1, \\mathbf{c}_2 \\in \\mathbb{R}^3$\n",
    "the straight-line curve between those points is given by\n",
    "\n",
    "\\begin{equation}\n",
    "\\mathbf{p}_{1,1}(s) = (1-s)\\mathbf{c}_0 + s\\mathbf{c}_1,\n",
    "\\tag{1}\n",
    "\\end{equation}\n",
    "\n",
    "where $s\\in[0,1]$.  The subscripts on $\\mathbf{p}_{i,n}$ are\n",
    "interpreted as follows.  The subscript $n$ is the order of the\n",
    "polynomial, where in Equation (1) the order\n",
    "of the polynomial is one.  The first subscript\n",
    "$i$ is\n"
   ],
   "metadata": {
    "collapsed": false,
    "pycharm": {
     "name": "#%% md\n"
    }
   }
  },
  {
   "cell_type": "code",
   "execution_count": 19,
   "outputs": [
    {
     "name": "stdout",
     "output_type": "stream",
     "text": [
      "[[0. ]\n",
      " [0.5]]\n"
     ]
    }
   ],
   "source": [
    "import numpy as np\n",
    "A = np.array([[1, 2], [3, 4]])\n",
    "b = np.array([[1], [2]])\n",
    "x = np.linalg.inv(A) @ b\n",
    "print(x)"
   ],
   "metadata": {
    "collapsed": false,
    "pycharm": {
     "name": "#%% \n"
    }
   }
  },
  {
   "cell_type": "code",
   "execution_count": 19,
   "outputs": [],
   "source": [],
   "metadata": {
    "collapsed": false,
    "pycharm": {
     "name": "#%%\n"
    }
   }
  },
  {
   "cell_type": "markdown",
   "source": [],
   "metadata": {
    "collapsed": false
   }
  }
 ],
 "metadata": {
  "kernelspec": {
   "display_name": "Python 3",
   "language": "python",
   "name": "python3"
  },
  "language_info": {
   "codemirror_mode": {
    "name": "ipython",
    "version": 2
   },
   "file_extension": ".py",
   "mimetype": "text/x-python",
   "name": "python",
   "nbconvert_exporter": "python",
   "pygments_lexer": "ipython2",
   "version": "2.7.6"
  }
 },
 "nbformat": 4,
 "nbformat_minor": 0
}